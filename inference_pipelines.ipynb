{
 "cells": [
  {
   "cell_type": "code",
   "execution_count": 3,
   "metadata": {},
   "outputs": [],
   "source": [
    "%reload_ext autoreload\n",
    "%autoreload 2\n",
    "\n",
    "import os\n",
    "import typing\n",
    "from typing import Callable, Union, Dict\n",
    "\n",
    "import pathlib\n",
    "from pathlib import Path\n",
    "Path.ls = lambda x: [p for p in list(x.iterdir()) if '.ipynb_checkpoints' not in p.name]\n",
    "import sys\n",
    "sys.path.append(\"../wsi_processing_pipeline/\")\n",
    "import tile_extraction\n",
    "from tile_extraction import tiles, util, slide\n",
    "import fastai\n",
    "from fastai.vision.data import ImageList\n",
    "from fastai.vision.image import pil2tensor\n",
    "from fastai.basic_train import load_learner\n",
    "import pandas as pd\n",
    "import numpy as np\n",
    "\n",
    "\n",
    "base_path = Path('/home/Deep_Learner/shared/Datasets/Hypophysenadenome/')\n",
    "wsis_path = base_path/'gonadotrop'"
   ]
  },
  {
   "cell_type": "code",
   "execution_count": 2,
   "metadata": {},
   "outputs": [
    {
     "data": {
      "text/plain": [
       "PosixPath('/home/Deep_Learner/shared/Datasets/Hypophysenadenome/gonadotrop/10-16-Z-HE.ndpi')"
      ]
     },
     "execution_count": 2,
     "metadata": {},
     "output_type": "execute_result"
    }
   ],
   "source": [
    "wsi_path = wsis_path/'10-16-Z-HE.ndpi';wsi_path"
   ]
  },
  {
   "cell_type": "code",
   "execution_count": 122,
   "metadata": {},
   "outputs": [
    {
     "data": {
      "application/vnd.jupyter.widget-view+json": {
       "model_id": "c22e20efd7ce4ca689272d33c2310ac7",
       "version_major": 2,
       "version_minor": 0
      },
      "text/plain": [
       "HBox(children=(FloatProgress(value=0.0, max=1.0), HTML(value='')))"
      ]
     },
     "metadata": {},
     "output_type": "display_data"
    },
    {
     "name": "stdout",
     "output_type": "stream",
     "text": [
      "Starting to process /home/Deep_Learner/shared/Datasets/Hypophysenadenome/gonadotrop/10-16-Z-HE.ndpi\n"
     ]
    }
   ],
   "source": [
    "tilesummaries = tiles.WsiOrROIToTilesMultithreaded(wsiPaths=[wsi_path], \n",
    "                                                    tilesFolderPath=None, \n",
    "                                                    tileHeight=512, \n",
    "                                                    tileWidth=512, \n",
    "                                                    tile_naming_func=tiles.get_wsi_name_from_path_pituitary_adenoma_entities,\n",
    "                                                    tile_score_thresh=0.5,\n",
    "                                                    tileScoringFunction=tiles.scoring_function_1,\n",
    "                                                    is_wsi=True,\n",
    "                                                    level=0,\n",
    "                                                    save_tiles=False,\n",
    "                                                    return_as_tilesummary_object=True)"
   ]
  },
  {
   "cell_type": "code",
   "execution_count": 123,
   "metadata": {},
   "outputs": [],
   "source": [
    "ts = tilesummaries[0]"
   ]
  },
  {
   "cell_type": "code",
   "execution_count": 124,
   "metadata": {},
   "outputs": [
    {
     "name": "stdout",
     "output_type": "stream",
     "text": [
      "/home/Deep_Learner/shared/Datasets/Hypophysenadenome/gonadotrop/10-16-Z-HE.ndpi: Number of tiles that will be kept/all possible tiles: 1030/6734\n",
      "/home/Deep_Learner/shared/Datasets/Hypophysenadenome/gonadotrop/10-16-Z-HE.ndpi: Number of tiles that will be kept/all possible tiles: 1030/6734\n"
     ]
    }
   ],
   "source": [
    "ts.top_tiles()\n",
    "tiles.show_wsi_with_marked_tiles(tilesummary=ts, wsi_path=ts.wsi_path)"
   ]
  },
  {
   "cell_type": "code",
   "execution_count": 125,
   "metadata": {},
   "outputs": [
    {
     "name": "stdout",
     "output_type": "stream",
     "text": [
      "/home/Deep_Learner/shared/Datasets/Hypophysenadenome/gonadotrop/10-16-Z-HE.ndpi: Number of tiles that will be kept/all possible tiles: 1030/6734\n",
      "/home/Deep_Learner/shared/Datasets/Hypophysenadenome/gonadotrop/10-16-Z-HE.ndpi: Number of tiles that will be kept/all possible tiles: 1030/6734\n"
     ]
    }
   ],
   "source": [
    "tiles_df = pd.DataFrame([t.get_name() for t in ts.top_tiles()], columns=['name'])\n",
    "\n",
    "tile_name_to_tile_object = {}\n",
    "for t in ts.top_tiles():\n",
    "    tile_name_to_tile_object[t.get_name()] = t\n",
    "\n",
    "def open_custom(self, fn):\n",
    "    \"Open image in `fn`.\"\n",
    "    return open_image_custom(fn, convert_mode=self.convert_mode, after_open=self.after_open)\n",
    "\n",
    "def open_image_custom(fn:typing.Union[pathlib.Path, str], \n",
    "                      div:bool=True, \n",
    "                      convert_mode:str='RGB', \n",
    "                      cls:type=fastai.vision.Image, \n",
    "                      after_open:Callable=None)->fastai.vision.Image:\n",
    "        \"Open image in `fn`.\"\n",
    "        fn = Path(fn)\n",
    "        tile_name = fn.name\n",
    "        t = tile_name_to_tile_object[tile_name]\n",
    "        tile = tiles.ExtractTileFromWSI(path=t.wsi_path, \n",
    "                                        x=t.get_x(), \n",
    "                                        y=t.get_y(), \n",
    "                                        width=t.get_width(), \n",
    "                                        height=t.get_height(), \n",
    "                                        level=t.level)\n",
    "        tile = tile.convert(convert_mode)\n",
    "        if after_open: \n",
    "            tile = after_open(tile)\n",
    "        tile = pil2tensor(tile,np.float32)\n",
    "        if div: \n",
    "            tile.div_(255)\n",
    "        return cls(tile)\n",
    "        \n",
    "fastai.vision.data.ImageList.open = open_custom\n",
    "fastai.vision.image.open_image = open_image_custom"
   ]
  },
  {
   "cell_type": "code",
   "execution_count": 126,
   "metadata": {},
   "outputs": [],
   "source": [
    "img_list = ImageList.from_df(df=tiles_df, path='')"
   ]
  },
  {
   "cell_type": "code",
   "execution_count": 7,
   "metadata": {},
   "outputs": [],
   "source": [
    "export_name = f'n:13-iteration:4-weights:bestmodel_lr2=1e-7--lr3=1e-6_9.pkl'"
   ]
  },
  {
   "cell_type": "code",
   "execution_count": 127,
   "metadata": {},
   "outputs": [],
   "source": [
    "learner = load_learner(path=Path('./'), file=export_name, test=img_list)"
   ]
  },
  {
   "cell_type": "code",
   "execution_count": 141,
   "metadata": {},
   "outputs": [],
   "source": [
    "learner.data.batch_size = 8"
   ]
  },
  {
   "cell_type": "code",
   "execution_count": 128,
   "metadata": {},
   "outputs": [
    {
     "data": {
      "text/html": [],
      "text/plain": [
       "<IPython.core.display.HTML object>"
      ]
     },
     "metadata": {},
     "output_type": "display_data"
    }
   ],
   "source": [
    "preds, y = learner.get_preds(ds_type=fastai.basic_data.DatasetType.Test)"
   ]
  },
  {
   "cell_type": "code",
   "execution_count": 129,
   "metadata": {},
   "outputs": [],
   "source": [
    "thresh = 0.5"
   ]
  },
  {
   "cell_type": "code",
   "execution_count": 130,
   "metadata": {},
   "outputs": [],
   "source": [
    "preds_bool = (preds > thresh).float()"
   ]
  },
  {
   "cell_type": "code",
   "execution_count": 131,
   "metadata": {
    "scrolled": false
   },
   "outputs": [
    {
     "data": {
      "text/plain": [
       "tensor([[0., 0., 1., 0.],\n",
       "        [0., 0., 1., 1.],\n",
       "        [0., 0., 1., 0.],\n",
       "        ...,\n",
       "        [0., 0., 0., 0.],\n",
       "        [0., 0., 1., 0.],\n",
       "        [0., 0., 1., 0.]])"
      ]
     },
     "execution_count": 131,
     "metadata": {},
     "output_type": "execute_result"
    }
   ],
   "source": [
    "preds_bool"
   ]
  },
  {
   "cell_type": "code",
   "execution_count": 132,
   "metadata": {},
   "outputs": [
    {
     "data": {
      "text/plain": [
       "tensor([  0.,   0., 891., 409.])"
      ]
     },
     "execution_count": 132,
     "metadata": {},
     "output_type": "execute_result"
    }
   ],
   "source": [
    "preds_bool.sum(0)"
   ]
  },
  {
   "cell_type": "code",
   "execution_count": null,
   "metadata": {},
   "outputs": [],
   "source": [
    "probs_wsi = preds_bool.sum(0)/len(preds_bool);probs_wsi"
   ]
  },
  {
   "cell_type": "code",
   "execution_count": null,
   "metadata": {},
   "outputs": [],
   "source": [
    "classes = ['acth', 'silent', 'lh', 'fsh']"
   ]
  },
  {
   "cell_type": "code",
   "execution_count": null,
   "metadata": {},
   "outputs": [],
   "source": [
    "result = {}\n",
    "for n, c in enumerate(classes):\n",
    "    result[c] = probs_wsi[n].item()"
   ]
  },
  {
   "cell_type": "code",
   "execution_count": null,
   "metadata": {},
   "outputs": [],
   "source": [
    "result"
   ]
  },
  {
   "cell_type": "code",
   "execution_count": null,
   "metadata": {},
   "outputs": [],
   "source": []
  },
  {
   "cell_type": "code",
   "execution_count": null,
   "metadata": {},
   "outputs": [],
   "source": []
  },
  {
   "cell_type": "code",
   "execution_count": 4,
   "metadata": {},
   "outputs": [],
   "source": [
    "def predict_pga_entity(path_exported_learner:Union[pathlib.Path, str], wsi_path:Union[pathlib.Path, str])->Dict:\n",
    "    \"\"\"\n",
    "    Arguments:\n",
    "        path_exported_learner: path to file that has been exported via fastai.basic_train.Learner.export()\n",
    "        wsi_path: path to a whole-slide image\n",
    "    Returns:\n",
    "        returns a dictionary with probabilities for the classes: ['acth', 'silent', 'lh', 'fsh']\n",
    "    \"\"\"\n",
    "    # calculate tiles \n",
    "    tilesummaries = tiles.WsiOrROIToTilesMultithreaded(wsiPaths=[wsi_path], \n",
    "                                                    tilesFolderPath=None, \n",
    "                                                    tileHeight=512, \n",
    "                                                    tileWidth=512, \n",
    "                                                    tile_naming_func=tiles.get_wsi_name_from_path_pituitary_adenoma_entities,\n",
    "                                                    tile_score_thresh=0.7,\n",
    "                                                    tileScoringFunction=tiles.scoring_function_1,\n",
    "                                                    is_wsi=True,\n",
    "                                                    level=0,\n",
    "                                                    save_tiles=False,\n",
    "                                                    return_as_tilesummary_object=True)\n",
    "    ts = tilesummaries[0]\n",
    "    \n",
    "    \n",
    "    \n",
    "    \n",
    "    #overwrite fastai's function for opening images !!!TODO: change this by using a custom DataLoader Implementation\n",
    "    def open_custom(self, fn):\n",
    "        \"Open image in `fn`.\"\n",
    "        return open_image_custom(fn, convert_mode=self.convert_mode, after_open=self.after_open)\n",
    "\n",
    "    def open_image_custom(fn:typing.Union[pathlib.Path, str], \n",
    "                      div:bool=True, \n",
    "                      convert_mode:str='RGB', \n",
    "                      cls:type=fastai.vision.Image, \n",
    "                      after_open:Callable=None)->fastai.vision.Image:\n",
    "        \"Open image in `fn`.\"\n",
    "        fn = Path(fn)\n",
    "        tile_name = fn.name\n",
    "        t = tile_name_to_tile_object[tile_name]\n",
    "        tile = tiles.ExtractTileFromWSI(path=t.wsi_path, \n",
    "                                        x=t.get_x(), \n",
    "                                        y=t.get_y(), \n",
    "                                        width=t.get_width(), \n",
    "                                        height=t.get_height(), \n",
    "                                        level=t.level)\n",
    "        tile = tile.convert(convert_mode)\n",
    "        if after_open: \n",
    "            tile = after_open(tile)\n",
    "        tile = pil2tensor(tile,np.float32)\n",
    "        if div: \n",
    "            tile.div_(255)\n",
    "        return cls(tile)\n",
    "        \n",
    "    fastai.vision.data.ImageList.open = open_custom\n",
    "    fastai.vision.image.open_image = open_image_custom\n",
    "    \n",
    "    #create fastai.vision.data.ImageList\n",
    "    tiles_df = pd.DataFrame([t.get_name() for t in ts.top_tiles()], columns=['name'])\n",
    "\n",
    "    tile_name_to_tile_object = {}\n",
    "    for t in ts.top_tiles():\n",
    "        tile_name_to_tile_object[t.get_name()] = t\n",
    "    \n",
    "    img_list = ImageList.from_df(df=tiles_df, path='')\n",
    "    \n",
    "    #init learner\n",
    "    learner = load_learner(path=Path(path_exported_learner).parent, file=Path(path_exported_learner).name, test=img_list)\n",
    "    learner.data.batch_size = 6\n",
    "    \n",
    "    #make predictions on tiles\n",
    "    preds, y = learner.get_preds(ds_type=fastai.basic_data.DatasetType.Test)\n",
    "    \n",
    "    #calculate probabilities for the whole-slide image\n",
    "    thresh = 0.5\n",
    "    preds_bool = (preds > thresh).float()\n",
    "    probs_wsi = preds_bool.sum(0)/len(preds_bool)\n",
    "    classes = ['acth', 'silent', 'lh', 'fsh']\n",
    "    result = {}\n",
    "    for n, c in enumerate(classes):\n",
    "        result[c] = probs_wsi[n].item()\n",
    "    return result"
   ]
  },
  {
   "cell_type": "code",
   "execution_count": null,
   "metadata": {},
   "outputs": [],
   "source": []
  },
  {
   "cell_type": "code",
   "execution_count": 8,
   "metadata": {},
   "outputs": [],
   "source": [
    "p = Path(os.path.join('.', export_name))"
   ]
  },
  {
   "cell_type": "code",
   "execution_count": 9,
   "metadata": {},
   "outputs": [
    {
     "data": {
      "application/vnd.jupyter.widget-view+json": {
       "model_id": "4fe1a0c88f064474956703e802d9180e",
       "version_major": 2,
       "version_minor": 0
      },
      "text/plain": [
       "HBox(children=(FloatProgress(value=0.0, max=1.0), HTML(value='')))"
      ]
     },
     "metadata": {},
     "output_type": "display_data"
    },
    {
     "name": "stdout",
     "output_type": "stream",
     "text": [
      "Starting to process /home/Deep_Learner/shared/Datasets/Hypophysenadenome/gonadotrop/10-16-Z-HE.ndpi\n",
      "/home/Deep_Learner/shared/Datasets/Hypophysenadenome/gonadotrop/10-16-Z-HE.ndpi: Number of tiles that will be kept/all possible tiles: 320/6734\n",
      "/home/Deep_Learner/shared/Datasets/Hypophysenadenome/gonadotrop/10-16-Z-HE.ndpi: Number of tiles that will be kept/all possible tiles: 320/6734\n"
     ]
    },
    {
     "data": {
      "text/html": [],
      "text/plain": [
       "<IPython.core.display.HTML object>"
      ]
     },
     "metadata": {},
     "output_type": "display_data"
    },
    {
     "data": {
      "text/plain": [
       "{'acth': 0.0,\n",
       " 'silent': 0.0,\n",
       " 'lh': 0.9125000238418579,\n",
       " 'fsh': 0.4593749940395355}"
      ]
     },
     "execution_count": 9,
     "metadata": {},
     "output_type": "execute_result"
    }
   ],
   "source": [
    "predict_pga_entity(path_exported_learner=p, wsi_path=wsi_path)"
   ]
  },
  {
   "cell_type": "code",
   "execution_count": null,
   "metadata": {},
   "outputs": [],
   "source": []
  },
  {
   "cell_type": "code",
   "execution_count": null,
   "metadata": {},
   "outputs": [],
   "source": []
  },
  {
   "cell_type": "code",
   "execution_count": null,
   "metadata": {},
   "outputs": [],
   "source": []
  }
 ],
 "metadata": {
  "kernelspec": {
   "display_name": "DLM Py3",
   "language": "python",
   "name": "dlm_py3"
  },
  "language_info": {
   "codemirror_mode": {
    "name": "ipython",
    "version": 3
   },
   "file_extension": ".py",
   "mimetype": "text/x-python",
   "name": "python",
   "nbconvert_exporter": "python",
   "pygments_lexer": "ipython3",
   "version": "3.7.6"
  },
  "toc": {
   "base_numbering": 1,
   "nav_menu": {},
   "number_sections": true,
   "sideBar": true,
   "skip_h1_title": false,
   "title_cell": "Table of Contents",
   "title_sidebar": "Contents",
   "toc_cell": false,
   "toc_position": {},
   "toc_section_display": true,
   "toc_window_display": true
  }
 },
 "nbformat": 4,
 "nbformat_minor": 4
}
